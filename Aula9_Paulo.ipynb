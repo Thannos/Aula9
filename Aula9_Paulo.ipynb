{
  "nbformat": 4,
  "nbformat_minor": 0,
  "metadata": {
    "colab": {
      "name": "Aula9_Paulo.ipynb",
      "version": "0.3.2",
      "provenance": [],
      "include_colab_link": true
    },
    "kernelspec": {
      "name": "python3",
      "display_name": "Python 3"
    }
  },
  "cells": [
    {
      "cell_type": "markdown",
      "metadata": {
        "id": "view-in-github",
        "colab_type": "text"
      },
      "source": [
        "<a href=\"https://colab.research.google.com/github/Thannos/Aula9/blob/master/Aula9_Paulo.ipynb\" target=\"_parent\"><img src=\"https://colab.research.google.com/assets/colab-badge.svg\" alt=\"Open In Colab\"/></a>"
      ]
    },
    {
      "metadata": {
        "id": "X5CROwMDnWi8",
        "colab_type": "code",
        "colab": {}
      },
      "cell_type": "code",
      "source": [
        "import numpy as np\n",
        "import matplotlib.pyplot as plt\n",
        "import math\n",
        "import random"
      ],
      "execution_count": 0,
      "outputs": []
    },
    {
      "metadata": {
        "id": "w9IrIyVOxB8D",
        "colab_type": "code",
        "colab": {}
      },
      "cell_type": "code",
      "source": [
        "def troca( A): \n",
        "    for k in range(1,3):\n",
        "      i=k+1\n",
        "      n = np.shape(A)[0] - 1\n",
        "      print('n ', n, '\\ncolunas abaixo do pivo\\n', np.array( A[ i : n + 1, k ] ) )\n",
        "      colAbs = np.abs(A[ i : n + 1, k ])\n",
        "      print( 'em módulo \\n', colAbs )\n",
        "      indexMax = np.argmax( colAbs )\n",
        "      print( indexMax )\n",
        "      iChange = indexMax + i\n",
        "      print( iChange )\n",
        "      aux = np.copy( A[ k, : ] )\n",
        "      print( aux )\n",
        "      A[ k, : ] = np.copy( A[ iChange, : ] )\n",
        "      A[ iChange, : ] = np.copy( aux )\n",
        "      #print(A,'\\n')"
      ],
      "execution_count": 0,
      "outputs": []
    },
    {
      "metadata": {
        "id": "FdKqsRAu-8JA",
        "colab_type": "code",
        "colab": {}
      },
      "cell_type": "code",
      "source": [
        "def gaus(a,b,m,n):\n",
        "  for i in range(0,2):\n",
        "      for k in range(0, m): \n",
        "          if(a[k,k] == 0):\n",
        "            troca(a)\n",
        "          for r in range(k+1,m): \n",
        "            if(a[r,k] != 0):\n",
        "              resp = (a[r,k]/a[k,k])\n",
        "              b[r] -= (resp*b[k])\n",
        "              for c in range(0,n):\n",
        "                  a[r,c] -= (resp*a[k,c])\n",
        "  print('Resultado matriz:\\n',a,'\\nResultado do vetor:\\n',b,'\\nResultados: ',resp)"
      ],
      "execution_count": 0,
      "outputs": []
    },
    {
      "metadata": {
        "id": "DjFGz_FuxGQZ",
        "colab_type": "code",
        "colab": {
          "base_uri": "https://localhost:8080/",
          "height": 697
        },
        "outputId": "a6d79c30-e65f-4043-8140-e8df4cadb5f7"
      },
      "cell_type": "code",
      "source": [
        "a  = np.matrix([[3, 2, 4, -1], [0, 1, 0, 3], [0, -3, -5, 7], [0, 2, 4, 0] ])\n",
        "print(a)\n",
        "troca(a)\n",
        "print(a)\n",
        "print('-------------------------------------------------')\n",
        "m=3\n",
        "n=3\n",
        "a = np.array([[3.,2.,4.], [1.,1.,2.], [4.,3.,-2.]])\n",
        "b = np.array([1.,2.,3.])\n",
        "print('matriz:\\n',a,'\\nvetor:\\n',b)\n",
        "gaus(a, b, m, n)"
      ],
      "execution_count": 108,
      "outputs": [
        {
          "output_type": "stream",
          "text": [
            "[[ 3  2  4 -1]\n",
            " [ 0  1  0  3]\n",
            " [ 0 -3 -5  7]\n",
            " [ 0  2  4  0]]\n",
            "n  3 \n",
            "colunas abaixo do pivo\n",
            " [[-3]\n",
            " [ 2]]\n",
            "em módulo \n",
            " [[3]\n",
            " [2]]\n",
            "0\n",
            "2\n",
            "[[0 1 0 3]]\n",
            "n  3 \n",
            "colunas abaixo do pivo\n",
            " [[4]]\n",
            "em módulo \n",
            " [[4]]\n",
            "0\n",
            "3\n",
            "[[0 1 0 3]]\n",
            "[[ 3  2  4 -1]\n",
            " [ 0 -3 -5  7]\n",
            " [ 0  2  4  0]\n",
            " [ 0  1  0  3]]\n",
            "-------------------------------------------------\n",
            "matriz:\n",
            " [[ 3.  2.  4.]\n",
            " [ 1.  1.  2.]\n",
            " [ 4.  3. -2.]] \n",
            "vetor:\n",
            " [1. 2. 3.]\n",
            "Resultado matriz:\n",
            " [[ 3.          2.          4.        ]\n",
            " [ 0.          0.33333333  0.66666667]\n",
            " [ 0.          0.         -8.        ]] \n",
            "Resultado do vetor:\n",
            " [ 1.00000000e+00  1.66666667e+00 -7.21644966e-16] \n",
            "Resultados:  1.6653345369377346e-16\n"
          ],
          "name": "stdout"
        }
      ]
    }
  ]
}