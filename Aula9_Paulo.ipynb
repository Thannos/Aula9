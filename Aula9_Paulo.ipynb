{
  "nbformat": 4,
  "nbformat_minor": 0,
  "metadata": {
    "colab": {
      "name": "Aula9_Paulo.ipynb",
      "version": "0.3.2",
      "provenance": [],
      "include_colab_link": true
    },
    "kernelspec": {
      "name": "python3",
      "display_name": "Python 3"
    }
  },
  "cells": [
    {
      "cell_type": "markdown",
      "metadata": {
        "id": "view-in-github",
        "colab_type": "text"
      },
      "source": [
        "<a href=\"https://colab.research.google.com/github/Thannos/Aula9/blob/master/Aula9_Paulo.ipynb\" target=\"_parent\"><img src=\"https://colab.research.google.com/assets/colab-badge.svg\" alt=\"Open In Colab\"/></a>"
      ]
    },
    {
      "metadata": {
        "id": "X5CROwMDnWi8",
        "colab_type": "code",
        "colab": {}
      },
      "cell_type": "code",
      "source": [
        "import numpy as np\n",
        "import matplotlib.pyplot as plt\n",
        "import math\n",
        "import random"
      ],
      "execution_count": 0,
      "outputs": []
    },
    {
      "metadata": {
        "id": "w9IrIyVOxB8D",
        "colab_type": "code",
        "colab": {}
      },
      "cell_type": "code",
      "source": [
        "def troca( A): \n",
        "    for k in range(1,3):\n",
        "      i=k+1\n",
        "      n = np.shape(A)[0] - 1\n",
        "      print('n ', n, '\\ncolunas abaixo do pivo\\n', np.array( A[ i : n + 1, k ] ) )\n",
        "      colAbs = np.abs(A[ i : n + 1, k ])\n",
        "      print( 'em módulo \\n', colAbs )\n",
        "      indexMax = np.argmax( colAbs )\n",
        "      print( indexMax )\n",
        "      iChange = indexMax + i\n",
        "      print( iChange )\n",
        "      aux = np.copy( A[ k, : ] )\n",
        "      print('coluna a sofrer pivoteamento:', aux )\n",
        "      A[ k, : ] = np.copy( A[ iChange, : ] )\n",
        "      A[ iChange, : ] = np.copy( aux )\n",
        "      #print(A,'\\n')"
      ],
      "execution_count": 0,
      "outputs": []
    },
    {
      "metadata": {
        "id": "FdKqsRAu-8JA",
        "colab_type": "code",
        "colab": {}
      },
      "cell_type": "code",
      "source": [
        "def gaus(a,b,m,n):\n",
        "  if np.linalg.det(a) == 0:\n",
        "    print('Não é possível calcular matriz com determinante igual a 0')\n",
        "    return\n",
        "  aux=[]\n",
        "  for i in range(0,(m-1)):\n",
        "      for k in range(0, m): \n",
        "          if(a[k,k] == 0):\n",
        "            troca(a)\n",
        "          for r in range(k+1,m): \n",
        "            if(a[r,k] != 0):\n",
        "              resp = (a[r,k]/a[k,k])\n",
        "              aux.append(resp)\n",
        "              b[r] -= (resp*b[k])\n",
        "              for c in range(0,n):\n",
        "                  a[r,c] -= (resp*a[k,c])\n",
        "                  #print('a\\n',a)\n",
        "  print('Resultado matriz:\\n',a,'\\nResultado do vetor:\\n',b,'\\nResultados: ',aux)"
      ],
      "execution_count": 0,
      "outputs": []
    },
    {
      "metadata": {
        "id": "v95K4daytz6F",
        "colab_type": "code",
        "colab": {}
      },
      "cell_type": "code",
      "source": [
        "def verifica(b, b1, m): #matriz-exp e matriz-p3\n",
        "  aux=0\n",
        "  for i in range(0,m):\n",
        "    for j in range(0,m):\n",
        "      for t in range(j,m):\n",
        "        if((b[i,j]!=b[i,t])):\n",
        "          while(b[i,j] < b[i,t]):\n",
        "            b[i,j]+=1\n",
        "            b1[i,j]/=10\n",
        "            aux+=1\n",
        "          while(b[i,j] > b[i,t]):\n",
        "            b[i,t]+=1\n",
        "            b1[i,t]/=10\n",
        "            aux+=1\n",
        "          print('precisão diferente\\n',b[i,j],'!=',b[i,t])"
      ],
      "execution_count": 0,
      "outputs": []
    },
    {
      "metadata": {
        "id": "rCO3R9IXxo8Q",
        "colab_type": "code",
        "colab": {}
      },
      "cell_type": "code",
      "source": [
        "def gaus2(a,a1,a2,b1,b2,b3,m): #m-normal,m-p3,m-exp,v-normal,v-p3,v-exp,tam\n",
        "  if (np.linalg.det(a1) == 0):\n",
        "    print('Não é possível calcular matriz com determinante igual a 0')\n",
        "    return\n",
        "  aux=[]\n",
        "  for i in range(0,(m-1)):\n",
        "      for k in range(0, m):\n",
        "          for r in range(k+1,m): \n",
        "            if(a1[r,k] != 0):\n",
        "              verifica(a2, a1, m)\n",
        "              resp = (a1[r,k]/a1[k,k])\n",
        "              aux.append(resp)\n",
        "              b2[r] -= (resp*b2[k])\n",
        "              for c in range(0,n):\n",
        "                  a1[r,c] -= (resp*a1[k,c])\n",
        "                  #print('a\\n',a)\n",
        "  print('Resultado matriz:\\n',a1,'\\nResultado do vetor:\\n',b,'\\nResultados: ',aux)"
      ],
      "execution_count": 0,
      "outputs": []
    },
    {
      "metadata": {
        "id": "2O5Ru2wEkyoI",
        "colab_type": "code",
        "colab": {}
      },
      "cell_type": "code",
      "source": [
        "#truncamento e arredondamento\n",
        "def justdoit(x,count,limite):\n",
        "  if(count>=limite): \n",
        "    a=x-int(x) \n",
        "    x=int(x)\n",
        "    if(a>=0.5):\n",
        "      x+=1\n",
        "\n",
        "    cont=0\n",
        "    while(x>1):\n",
        "      x/=10\n",
        "      cont+=1 \n",
        "    \n",
        "    print(round(x,count),\" * (10 ^\",cont-count,\")\")\n",
        "  else:\n",
        "    cont=0\n",
        "    while(x>=1):\n",
        "      x=x/10\n",
        "      cont+=1\n",
        "    \n",
        "    print(round(x,cont),\" * (10 ^\",cont-count,\")\")\n",
        "  return (round(x,cont)),(cont-count)"
      ],
      "execution_count": 0,
      "outputs": []
    },
    {
      "metadata": {
        "id": "DjFGz_FuxGQZ",
        "colab_type": "code",
        "outputId": "f0fa1af3-8f43-4851-d5a5-6dda97bfd7ee",
        "colab": {
          "base_uri": "https://localhost:8080/",
          "height": 850
        }
      },
      "cell_type": "code",
      "source": [
        "a  = np.matrix([[3, 2, 1, -1], [0, 1, 0, 3], [0, -3, -5, 7], [0, 2, 4, 0] ])\n",
        "b = np.array([5,6,7,15])\n",
        "print(a)\n",
        "troca(a)\n",
        "print(a)\n",
        "print('-------------------------------------------------')\n",
        "m=3\n",
        "n=3\n",
        "a = np.array([[3.,2.,4.], [1.,1.,2.], [4.,3.,-2.]])\n",
        "b = np.array([1.,2.,3.])\n",
        "print('matriz:\\n',a,'\\nvetor:\\n',b)\n",
        "gaus(a, b, m, n)\n",
        "print('-------------------------------------------------')\n",
        "m=3\n",
        "n=3\n",
        "a = np.array([[1,3,1],[1,1,-1],[3,11,5]] )\n",
        "b = np.array([9,1,35])\n",
        "print('matriz:\\n',a,'\\nvetor:\\n',b)\n",
        "gaus(a,b,m,n)\n",
        "print('-------------------------------------------------')"
      ],
      "execution_count": 117,
      "outputs": [
        {
          "output_type": "stream",
          "text": [
            "[[ 3  2  1 -1]\n",
            " [ 0  1  0  3]\n",
            " [ 0 -3 -5  7]\n",
            " [ 0  2  4  0]]\n",
            "n  3 \n",
            "colunas abaixo do pivo\n",
            " [[-3]\n",
            " [ 2]]\n",
            "em módulo \n",
            " [[3]\n",
            " [2]]\n",
            "0\n",
            "2\n",
            "coluna a sofrer pivoteamento: [[0 1 0 3]]\n",
            "n  3 \n",
            "colunas abaixo do pivo\n",
            " [[4]]\n",
            "em módulo \n",
            " [[4]]\n",
            "0\n",
            "3\n",
            "coluna a sofrer pivoteamento: [[0 1 0 3]]\n",
            "[[ 3  2  1 -1]\n",
            " [ 0 -3 -5  7]\n",
            " [ 0  2  4  0]\n",
            " [ 0  1  0  3]]\n",
            "-------------------------------------------------\n",
            "matriz:\n",
            " [[ 3.  2.  4.]\n",
            " [ 1.  1.  2.]\n",
            " [ 4.  3. -2.]] \n",
            "vetor:\n",
            " [1. 2. 3.]\n",
            "Resultado matriz:\n",
            " [[ 3.          2.          4.        ]\n",
            " [ 0.          0.33333333  0.66666667]\n",
            " [ 0.          0.         -8.        ]] \n",
            "Resultado do vetor:\n",
            " [ 1.00000000e+00  1.66666667e+00 -7.21644966e-16] \n",
            "Resultados:  [0.3333333333333333, 1.3333333333333333, 1.0000000000000002, 1.6653345369377346e-16]\n",
            "-------------------------------------------------\n",
            "matriz:\n",
            " [[ 1  3  1]\n",
            " [ 1  1 -1]\n",
            " [ 3 11  5]] \n",
            "vetor:\n",
            " [ 9  1 35]\n",
            "Não é possível calcular matriz com determinante igual a 0\n",
            "-------------------------------------------------\n"
          ],
          "name": "stdout"
        }
      ]
    },
    {
      "metadata": {
        "id": "jgfytXkZljSa",
        "colab_type": "code",
        "outputId": "f2627d1f-a33c-4ef9-a8b0-1982cba71a73",
        "colab": {
          "base_uri": "https://localhost:8080/",
          "height": 697
        }
      },
      "cell_type": "code",
      "source": [
        "limite=3\n",
        "m=2\n",
        "#primeira linha com precisão de três digitos\n",
        "x=0.0002\n",
        "c=2\n",
        "v=5\n",
        "count=0\n",
        "exp=[]\n",
        "resp=[]\n",
        "exp.append(x)\n",
        "exp.append(c)\n",
        "resp.append(v)\n",
        "while(count!=(limite-1)):\n",
        "  x*=10\n",
        "  c*=10\n",
        "  v*=10\n",
        "  count+=1\n",
        "x,y=justdoit(x,count,limite)\n",
        "aux1=[]\n",
        "aux1.append(y)\n",
        "c,y=justdoit(c,count,limite)\n",
        "aux1.append(y)\n",
        "resp1=[]\n",
        "v,y=justdoit(v,count,limite)\n",
        "resp1.append(y)\n",
        "novo=[]\n",
        "teste=[]\n",
        "novo.append(x)\n",
        "novo.append(c)\n",
        "teste.append(v)\n",
        "#print(aux1)\n",
        "#segundo linha com precisão de três digitos\n",
        "x=2\n",
        "c=2\n",
        "v=6\n",
        "count=0\n",
        "exp1=[]\n",
        "exp1.append(x)\n",
        "exp1.append(c)\n",
        "resp.append(v)\n",
        "while(count!=(limite-1)):\n",
        "  x*=10\n",
        "  c*=10\n",
        "  v*=10\n",
        "  count+=1\n",
        "x,y=justdoit(x,count,limite)\n",
        "aux2=[]\n",
        "aux2.append(y)\n",
        "c,y=justdoit(c,count,limite)\n",
        "aux2.append(y)\n",
        "v,y=justdoit(v,count,limite)\n",
        "resp1.append(y)\n",
        "novo1=[]\n",
        "novo1.append(x)\n",
        "novo1.append(c)\n",
        "teste.append(v)\n",
        "#print(aux2)\n",
        "a = np.array([exp, exp1]) #matriz normal\n",
        "a1 =  np.array([aux1, aux2]) #expoentes\n",
        "a2 = np.array([novo,novo1]) #matriz com precisão 3\n",
        "c = np.array(resp) #vetor resposta\n",
        "c1 = np.array(teste) #vetor resposta com precisão 3\n",
        "c2 = np.array(resp1) #expoente vetor resposta\n",
        "print(a,'\\n')\n",
        "print(a1,'\\n')\n",
        "print(a2,'\\n')\n",
        "print(c,'\\n')\n",
        "print(c1,'\\n')\n",
        "print(c2,'\\n')\n",
        "gaus(a,c,m,n)\n",
        "print('-------------------------------------------------')\n",
        "gaus2(a,a2,a1,c,c1,c2,m) #m-normal,m-p3,m-exp,v-normal,v-p3,v-exp,tam"
      ],
      "execution_count": 99,
      "outputs": [
        {
          "output_type": "stream",
          "text": [
            "0.0  * (10 ^ -2 )\n",
            "0.2  * (10 ^ 1 )\n",
            "0.5  * (10 ^ 1 )\n",
            "0.2  * (10 ^ 1 )\n",
            "0.2  * (10 ^ 1 )\n",
            "0.6  * (10 ^ 1 )\n",
            "[[2.e-04 2.e+00]\n",
            " [2.e+00 2.e+00]] \n",
            "\n",
            "[[-2  1]\n",
            " [ 1  1]] \n",
            "\n",
            "[[0.  0.2]\n",
            " [0.2 0.2]] \n",
            "\n",
            "[5 6] \n",
            "\n",
            "[0.5 0.6] \n",
            "\n",
            "[1 1] \n",
            "\n",
            "Resultado matriz:\n",
            " [[2.e-04 2.e+00]\n",
            " [0.e+00 2.e+00]] \n",
            "Resultado do vetor:\n",
            " [     5 -49994] \n",
            "Resultados:  [10000.0]\n",
            "-------------------------------------------------\n",
            "precisão diferente\n",
            " 1 != 1\n",
            "Resultado matriz:\n",
            " [[0.  0.2]\n",
            " [nan 0.2]] \n",
            "Resultado do vetor:\n",
            " [ 9  1 35] \n",
            "Resultados:  [inf]\n"
          ],
          "name": "stdout"
        },
        {
          "output_type": "stream",
          "text": [
            "/usr/local/lib/python3.6/dist-packages/ipykernel_launcher.py:11: RuntimeWarning: divide by zero encountered in double_scalars\n",
            "  # This is added back by InteractiveShellApp.init_path()\n",
            "/usr/local/lib/python3.6/dist-packages/ipykernel_launcher.py:15: RuntimeWarning: invalid value encountered in double_scalars\n",
            "  from ipykernel import kernelapp as app\n"
          ],
          "name": "stderr"
        }
      ]
    }
  ]
}