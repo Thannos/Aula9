{
  "nbformat": 4,
  "nbformat_minor": 0,
  "metadata": {
    "colab": {
      "name": "Aula9_Paulo.ipynb",
      "version": "0.3.2",
      "provenance": [],
      "include_colab_link": true
    },
    "kernelspec": {
      "name": "python3",
      "display_name": "Python 3"
    }
  },
  "cells": [
    {
      "cell_type": "markdown",
      "metadata": {
        "id": "view-in-github",
        "colab_type": "text"
      },
      "source": [
        "<a href=\"https://colab.research.google.com/github/Thannos/Aula9/blob/master/Aula9_Paulo.ipynb\" target=\"_parent\"><img src=\"https://colab.research.google.com/assets/colab-badge.svg\" alt=\"Open In Colab\"/></a>"
      ]
    },
    {
      "metadata": {
        "id": "X5CROwMDnWi8",
        "colab_type": "code",
        "colab": {}
      },
      "cell_type": "code",
      "source": [
        "import numpy as np\n",
        "import matplotlib.pyplot as plt\n",
        "import math\n",
        "import random"
      ],
      "execution_count": 0,
      "outputs": []
    },
    {
      "metadata": {
        "id": "w9IrIyVOxB8D",
        "colab_type": "code",
        "colab": {}
      },
      "cell_type": "code",
      "source": [
        "def troca( A): \n",
        "    for k in range(1,3):\n",
        "      i=k+1\n",
        "      n = np.shape(A)[0] - 1\n",
        "      print('n ', n, '\\ncolunas abaixo do pivo\\n', np.array( A[ i : n + 1, k ] ) )\n",
        "      colAbs = np.abs(A[ i : n + 1, k ])\n",
        "      print( 'em módulo \\n', colAbs )\n",
        "      indexMax = np.argmax( colAbs )\n",
        "      print( indexMax )\n",
        "      iChange = indexMax + i\n",
        "      print( iChange )\n",
        "      aux = np.copy( A[ k, : ] )\n",
        "      print('coluna a sofrer pivoteamento:', aux )\n",
        "      A[ k, : ] = np.copy( A[ iChange, : ] )\n",
        "      A[ iChange, : ] = np.copy( aux )\n",
        "      #print(A,'\\n')"
      ],
      "execution_count": 0,
      "outputs": []
    },
    {
      "metadata": {
        "id": "FdKqsRAu-8JA",
        "colab_type": "code",
        "colab": {}
      },
      "cell_type": "code",
      "source": [
        "def gaus(a,b,m,n):\n",
        "  if np.linalg.det(a) == 0:\n",
        "    print('Não é possível calcular matriz com determinante igual a 0')\n",
        "    return\n",
        "  aux=[]\n",
        "  for i in range(0,2):\n",
        "      for k in range(0, m): \n",
        "          if(a[k,k] == 0):\n",
        "            troca(a)\n",
        "          for r in range(k+1,m): \n",
        "            if(a[r,k] != 0):\n",
        "              resp = (a[r,k]/a[k,k])\n",
        "              aux.append(resp)\n",
        "              b[r] -= (resp*b[k])\n",
        "              for c in range(0,n):\n",
        "                  a[r,c] -= (resp*a[k,c])\n",
        "                  #print('a\\n',a)\n",
        "  print('Resultado matriz:\\n',a,'\\nResultado do vetor:\\n',b,'\\nResultados: ',aux)"
      ],
      "execution_count": 0,
      "outputs": []
    },
    {
      "metadata": {
        "id": "rCO3R9IXxo8Q",
        "colab_type": "code",
        "colab": {}
      },
      "cell_type": "code",
      "source": [
        "def gaus2(a,b,m,n):\n",
        "  if np.linalg.det(a) == 0:\n",
        "    print('Não é possível calcular matriz com determinante igual a 0')\n",
        "    return\n",
        "  aux=[]\n",
        "  for i in range(0,2):\n",
        "      for k in range(0, m): \n",
        "          if(a[k,k] == 0):\n",
        "            troca(a)\n",
        "          for r in range(k+1,m): \n",
        "            if(a[r,k] != 0):\n",
        "              resp = (a[r,k]/a[k,k])\n",
        "              aux.append(resp)\n",
        "              b[r] -= (resp*b[k])\n",
        "              for c in range(0,n):\n",
        "                  a[r,c] -= (resp*a[k,c])\n",
        "                  #print('a\\n',a)\n",
        "  print('Resultado matriz:\\n',a,'\\nResultado do vetor:\\n',b,'\\nResultados: ',aux)"
      ],
      "execution_count": 0,
      "outputs": []
    },
    {
      "metadata": {
        "id": "2O5Ru2wEkyoI",
        "colab_type": "code",
        "colab": {}
      },
      "cell_type": "code",
      "source": [
        "#truncamento e arredondamento\n",
        "def justdoit(x,count,limite):\n",
        "  if(count>=limite): \n",
        "    a=x-int(x) \n",
        "    x=int(x)\n",
        "    if(a>=0.5):\n",
        "      x+=1\n",
        "\n",
        "    cont=0\n",
        "    while(x>1):\n",
        "      x/=10\n",
        "      cont+=1 \n",
        "    \n",
        "    print(round(x,count),\" * (10 ^\",cont-count,\")\")\n",
        "  else:\n",
        "    cont=0\n",
        "    while(x>=1):\n",
        "      x=x/10\n",
        "      cont+=1\n",
        "    \n",
        "    print(round(x,cont),\" * (10 ^\",cont-count,\")\")\n",
        "  return (round(x,cont)),(cont-count)"
      ],
      "execution_count": 0,
      "outputs": []
    },
    {
      "metadata": {
        "id": "DjFGz_FuxGQZ",
        "colab_type": "code",
        "outputId": "56dc48cc-f26b-4acd-b215-35ac8c9ff21d",
        "colab": {
          "base_uri": "https://localhost:8080/",
          "height": 840
        }
      },
      "cell_type": "code",
      "source": [
        "a  = np.matrix([[3, 2, 1, -1], [0, 1, 0, 3], [0, -3, -5, 7], [0, 2, 4, 0] ])\n",
        "print(a)\n",
        "troca(a)\n",
        "print(a)\n",
        "print('-------------------------------------------------')\n",
        "m=3\n",
        "n=3\n",
        "a = np.array([[3.,2.,4.], [1.,1.,2.], [4.,3.,-2.]])\n",
        "b = np.array([1.,2.,3.])\n",
        "print('matriz:\\n',a,'\\nvetor:\\n',b)\n",
        "gaus(a, b, m, n)\n",
        "print('-------------------------------------------------')\n",
        "m=3\n",
        "n=3\n",
        "a = np.array([[1,3,1],[1,1,-1],[3,11,5]] )\n",
        "b = np.array([9,1,35])\n",
        "print('matriz:\\n',a,'\\nvetor:\\n',b)\n",
        "gaus(a,b,m,n)\n",
        "print('-------------------------------------------------')"
      ],
      "execution_count": 83,
      "outputs": [
        {
          "output_type": "stream",
          "text": [
            "[[ 3  2  1 -1]\n",
            " [ 0  1  0  3]\n",
            " [ 0 -3 -5  7]\n",
            " [ 0  2  4  0]]\n",
            "n  3 \n",
            "colunas abaixo do pivo\n",
            " [[-3]\n",
            " [ 2]]\n",
            "em módulo \n",
            " [[3]\n",
            " [2]]\n",
            "0\n",
            "2\n",
            "coluna a sofrer pivoteamento: [[0 1 0 3]]\n",
            "n  3 \n",
            "colunas abaixo do pivo\n",
            " [[4]]\n",
            "em módulo \n",
            " [[4]]\n",
            "0\n",
            "3\n",
            "coluna a sofrer pivoteamento: [[0 1 0 3]]\n",
            "[[ 3  2  1 -1]\n",
            " [ 0 -3 -5  7]\n",
            " [ 0  2  4  0]\n",
            " [ 0  1  0  3]]\n",
            "-------------------------------------------------\n",
            "matriz:\n",
            " [[ 3.  2.  4.]\n",
            " [ 1.  1.  2.]\n",
            " [ 4.  3. -2.]] \n",
            "vetor:\n",
            " [1. 2. 3.]\n",
            "Resultado matriz:\n",
            " [[ 3.          2.          4.        ]\n",
            " [ 0.          0.33333333  0.66666667]\n",
            " [ 0.          0.         -8.        ]] \n",
            "Resultado do vetor:\n",
            " [ 1.00000000e+00  1.66666667e+00 -7.21644966e-16] \n",
            "Resultados:  [0.3333333333333333, 1.3333333333333333, 1.0000000000000002, 1.6653345369377346e-16]\n",
            "-------------------------------------------------\n",
            "matriz:\n",
            " [[ 1  3  1]\n",
            " [ 1  1 -1]\n",
            " [ 3 11  5]] \n",
            "vetor:\n",
            " [ 9  1 35]\n",
            "Não é possível calcular matriz com determinante igual a 0\n",
            "-------------------------------------------------\n"
          ],
          "name": "stdout"
        }
      ]
    },
    {
      "metadata": {
        "id": "9jluVY41tKlo",
        "colab_type": "code",
        "colab": {
          "base_uri": "https://localhost:8080/",
          "height": 118
        },
        "outputId": "cfe45978-bc1d-4dae-eac9-8e09eadf3135"
      },
      "cell_type": "code",
      "source": [
        "a = np.array([[0.2, 0.2],[0.2,0.2]])\n",
        "a1 = np.array([[-3,1],[1,1]])\n",
        "b = np.array([0.5,0.6])\n",
        "b1 = np.array([1,1])\n",
        "n=2\n",
        "print(a,'\\n',b)\n",
        "print('[[',end='')\n",
        "for i in range(0,n):\n",
        "  for j in range(0,n):\n",
        "    print('(',a[i,j],'*(10^',a1[i,j],end='))   ')\n",
        "  if(i<n-1):\n",
        "    print(']\\n')\n",
        "  else:\n",
        "    print(']]')"
      ],
      "execution_count": 89,
      "outputs": [
        {
          "output_type": "stream",
          "text": [
            "[[0.2 0.2]\n",
            " [0.2 0.2]] \n",
            " [0.5 0.6]\n",
            "[[( 0.2 *(10^ -3))   ( 0.2 *(10^ 1))   ]\n",
            "\n",
            "( 0.2 *(10^ 1))   ( 0.2 *(10^ 1))   ]]\n"
          ],
          "name": "stdout"
        }
      ]
    },
    {
      "metadata": {
        "id": "jgfytXkZljSa",
        "colab_type": "code",
        "colab": {
          "base_uri": "https://localhost:8080/",
          "height": 218
        },
        "outputId": "13a9736b-2381-4950-c558-70f935cabe85"
      },
      "cell_type": "code",
      "source": [
        "limite=3\n",
        "#primeira linha com precisão de três digitos\n",
        "x=3\n",
        "c=2\n",
        "v=4\n",
        "count=0\n",
        "while(count!=(limite-1)):\n",
        "  x*=10\n",
        "  c*=10\n",
        "  v*=10\n",
        "  count+=1\n",
        "x,y1=justdoit(x,count,limite)\n",
        "aux1=[]\n",
        "aux1.append(x)\n",
        "c,y2=justdoit(c,count,limite)\n",
        "aux1.append(c)\n",
        "v,y3=justdoit(v,count,limite)\n",
        "aux1.append(v)\n",
        "#print(aux1)\n",
        "exp=[]\n",
        "exp.append(y1)\n",
        "exp.append(y2)\n",
        "exp.append(y3)\n",
        "#segundo linha com precisão de três digitos\n",
        "x=1\n",
        "c=1\n",
        "v=2\n",
        "count=0\n",
        "while(count!=(limite-1)):\n",
        "  x*=10\n",
        "  c*=10\n",
        "  v*=10\n",
        "  count+=1\n",
        "x,y1=justdoit(x,count,limite)\n",
        "aux2=[]\n",
        "aux2.append(x)\n",
        "c,y2=justdoit(c,count,limite)\n",
        "aux2.append(c)\n",
        "v,y3=justdoit(v,count,limite)\n",
        "aux2.append(v)\n",
        "exp1=[]\n",
        "exp1.append(y1)\n",
        "exp1.append(y2)\n",
        "exp1.append(y3)\n",
        "#print(aux2)\n",
        "#terceira linha com precisão de três digitos\n",
        "x=4\n",
        "c=3\n",
        "v=2\n",
        "count=0\n",
        "while(count!=(limite-1)):\n",
        "  x*=10\n",
        "  c*=10\n",
        "  v*=10\n",
        "  count+=1\n",
        "x,y1=justdoit(x,count,limite)\n",
        "aux3=[]\n",
        "aux3.append(x)\n",
        "c,y2=justdoit(c,count,limite)\n",
        "aux3.append(c)\n",
        "v,y3=justdoit(v,count,limite)\n",
        "aux3.append(v)\n",
        "exp2=[]\n",
        "exp2.append(y1)\n",
        "exp2.append(y2)\n",
        "exp2.append(y3)\n",
        "#print(aux3)\n",
        "a = np.array([aux1, aux2, aux3]) #matriz com precisão 3\n",
        "a1 = np.array([exp, exp1, exp2]) #expoentes\n",
        "print(a)"
      ],
      "execution_count": 66,
      "outputs": [
        {
          "output_type": "stream",
          "text": [
            "0.3  * (10 ^ 1 )\n",
            "0.2  * (10 ^ 1 )\n",
            "0.4  * (10 ^ 1 )\n",
            "0.1  * (10 ^ 1 )\n",
            "0.1  * (10 ^ 1 )\n",
            "0.2  * (10 ^ 1 )\n",
            "0.4  * (10 ^ 1 )\n",
            "0.3  * (10 ^ 1 )\n",
            "0.2  * (10 ^ 1 )\n",
            "[[0.3 0.2 0.4]\n",
            " [0.1 0.1 0.2]\n",
            " [0.4 0.3 0.2]]\n"
          ],
          "name": "stdout"
        }
      ]
    }
  ]
}