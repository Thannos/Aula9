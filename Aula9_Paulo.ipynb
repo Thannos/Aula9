{
  "nbformat": 4,
  "nbformat_minor": 0,
  "metadata": {
    "colab": {
      "name": "Aula9_Paulo.ipynb",
      "version": "0.3.2",
      "provenance": [],
      "include_colab_link": true
    },
    "kernelspec": {
      "name": "python3",
      "display_name": "Python 3"
    }
  },
  "cells": [
    {
      "cell_type": "markdown",
      "metadata": {
        "id": "view-in-github",
        "colab_type": "text"
      },
      "source": [
        "<a href=\"https://colab.research.google.com/github/Thannos/Aula9/blob/master/Aula9_Paulo.ipynb\" target=\"_parent\"><img src=\"https://colab.research.google.com/assets/colab-badge.svg\" alt=\"Open In Colab\"/></a>"
      ]
    },
    {
      "metadata": {
        "id": "3D5c5AhwOO9m",
        "colab_type": "code",
        "colab": {}
      },
      "cell_type": "code",
      "source": [
        "import numpy as np\n",
        "import matplotlib.pyplot as plt\n",
        "import math\n",
        "import random"
      ],
      "execution_count": 0,
      "outputs": []
    },
    {
      "metadata": {
        "id": "I-JOgqh-TGTI",
        "colab_type": "code",
        "colab": {}
      },
      "cell_type": "code",
      "source": [
        "def slice(A):\n",
        "  #Aarr  = np.array([[3, 2, 4, -1], [0, 1, 0, 3], [0, -3, -5, 7], [0, 2, 4, 0] ])\n",
        "\n",
        "  #A = np.matrix([[3, 2, 4, -1], [0, 1, 0, 3], [0, -3, -5, 7], [0, 2, 4, 0] ])\n",
        "  print(A)\n",
        "\n",
        "  k = 1 \n",
        "  i = 2\n",
        "  n = np.shape(A)[0] - 1#último index\n",
        "  print('n ', n, '\\n')\n",
        "\n",
        "  #slicing\n",
        "  print( np.array( A[ i : n + 1, k ] ) )\n",
        "\n",
        "  #Localizando o  maior valor na coluna do pivô, depois do pivô\n",
        "  col = A[ i : n + 1, k ]\n",
        "\n",
        "  colAbs = np.abs( col )\n",
        "  print( 'colAbs \\n', colAbs )\n",
        "\n",
        "  indexMax = np.argmax( colAbs )\n",
        "  print( indexMax )\n",
        "\n",
        "\n",
        "  #Trocando a coluna\n",
        "  iChange = indexMax + i\n",
        "  print( iChange )\n",
        "\n",
        "  aux = np.copy( A[ k, : ] )\n",
        "  print( aux )\n",
        "\n",
        "  A[ k, : ] = np.copy( A[ iChange, : ] )\n",
        "  A[ iChange, : ] = np.copy( aux )\n",
        "\n",
        "  print(A)"
      ],
      "execution_count": 0,
      "outputs": []
    },
    {
      "metadata": {
        "id": "g-PfBym1UR5H",
        "colab_type": "code",
        "colab": {}
      },
      "cell_type": "code",
      "source": [
        "def comp(mat,lin,col, resp):\n",
        "  for i in range(0,col):\n",
        "    if(mat[lin,i]>resp):\n",
        "      print('a[',lin,',',i,'] = ',mat[lin,i],' > ',resp)\n",
        "      return 1\n",
        "    \n",
        "  return 0"
      ],
      "execution_count": 0,
      "outputs": []
    },
    {
      "metadata": {
        "id": "_YbwPxF5JFqP",
        "colab_type": "code",
        "colab": {
          "base_uri": "https://localhost:8080/",
          "height": 238
        },
        "outputId": "081b5b01-c4a4-4695-e0a6-311a992f2082"
      },
      "cell_type": "code",
      "source": [
        "def gaus(a,b,m,n):\n",
        "  for i in range(0,2):\n",
        "      for k in range(0, m): \n",
        "          for r in range(k+1,m): \n",
        "              resp = (a[r,k]/a[k,k])\n",
        "              b[r] -= (resp*b[k])\n",
        "              for c in range(0,n):\n",
        "                  a[r,c] -= (resp*a[k,c])\n",
        "  print('Resultado matriz:\\n',a,'\\nResultado do vetor:\\n',b,'\\nResultados: ',resp)\n",
        "m=3\n",
        "n=3\n",
        "a = np.array([[3.,2.,4.], [1.,1.,2.], [4.,3.,-2.]])\n",
        "b = np.array([1.,2.,3.])\n",
        "print('matriz:\\n',a,'\\nvetor:\\n',b)\n",
        "gaus(a, b, m, n)"
      ],
      "execution_count": 55,
      "outputs": [
        {
          "output_type": "stream",
          "text": [
            "matriz:\n",
            " [[ 3.  2.  4.]\n",
            " [ 1.  1.  2.]\n",
            " [ 4.  3. -2.]] \n",
            "vetor:\n",
            " [1. 2. 3.]\n",
            "Resultado matriz:\n",
            " [[ 3.          2.          4.        ]\n",
            " [ 0.          0.33333333  0.66666667]\n",
            " [ 0.          0.         -8.        ]] \n",
            "Resultado do vetor:\n",
            " [ 1.00000000e+00  1.66666667e+00 -7.21644966e-16] \n",
            "Resultados:  1.6653345369377346e-16\n"
          ],
          "name": "stdout"
        }
      ]
    },
    {
      "metadata": {
        "id": "2nkx1eILPsjq",
        "colab_type": "code",
        "colab": {
          "base_uri": "https://localhost:8080/",
          "height": 34
        },
        "outputId": "8025a20d-644c-46ee-8157-33a8de26484a"
      },
      "cell_type": "code",
      "source": [
        "np.linalg.det(a) #calcula determinante de uma matriz"
      ],
      "execution_count": 12,
      "outputs": [
        {
          "output_type": "execute_result",
          "data": {
            "text/plain": [
              "-8.000000000000002"
            ]
          },
          "metadata": {
            "tags": []
          },
          "execution_count": 12
        }
      ]
    },
    {
      "metadata": {
        "id": "_W3_Lwl2Xr5M",
        "colab_type": "code",
        "colab": {
          "base_uri": "https://localhost:8080/",
          "height": 34
        },
        "outputId": "431e0a34-0c66-484b-9530-f7a6f0d023e6"
      },
      "cell_type": "code",
      "source": [
        "np.linalg.solve([[0.0002, 2], [2,2]], [5,6])"
      ],
      "execution_count": 61,
      "outputs": [
        {
          "output_type": "execute_result",
          "data": {
            "text/plain": [
              "array([0.50005001, 2.49994999])"
            ]
          },
          "metadata": {
            "tags": []
          },
          "execution_count": 61
        }
      ]
    }
  ]
}