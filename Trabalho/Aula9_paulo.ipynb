{
  "nbformat": 4,
  "nbformat_minor": 0,
  "metadata": {
    "colab": {
      "name": "Aula9_paulo_durval.ipynb",
      "version": "0.3.2",
      "provenance": []
    },
    "kernelspec": {
      "name": "python3",
      "display_name": "Python 3"
    }
  },
  "cells": [
    {
      "metadata": {
        "id": "9X5IBJj5_rjd",
        "colab_type": "code",
        "colab": {}
      },
      "cell_type": "code",
      "source": [
        "import numpy as np"
      ],
      "execution_count": 0,
      "outputs": []
    },
    {
      "metadata": {
        "id": "zmEwn9VBRbRq",
        "colab_type": "code",
        "colab": {}
      },
      "cell_type": "code",
      "source": [
        "def gauss(a, b):\n",
        "    n = len(a)\n",
        "    x = np.zeros(n)\n",
        "    for k in range(n - 1, -1, -1):\n",
        "        s = 0\n",
        "        for j in range(k + 1, n):\n",
        "            s += a[k][j] * x[j]\n",
        "        x[k] = (b[k] - s) / a[k][k]\n",
        "    return x"
      ],
      "execution_count": 0,
      "outputs": []
    },
    {
      "metadata": {
        "id": "k-7Cpt1ZReNA",
        "colab_type": "code",
        "colab": {}
      },
      "cell_type": "code",
      "source": [
        "def pivotamento(A, b):\n",
        "    if (np.linalg.det(A) != 0):\n",
        "        k=0\n",
        "        if (A[k][k] == 0):\n",
        "          print('Erro na diagonal principal')\n",
        "          return\n",
        "        if (A[k + 1][k] != 0):\n",
        "            for i in np.arange(k + 1, n + 1):\n",
        "                m = A[i, k] / A[k, k]\n",
        "                A[i, k] = 0\n",
        "                for j in np.arange(k + 1, n + 1):\n",
        "                    A[i, j] -= m * A[k, j]\n",
        "                    b[i] -= m * b[k]\n",
        "\n",
        "        return A, b\n",
        "    else:\n",
        "        print(\"Não é possível calcular matriz com determinante igual a 0\")\n",
        "        return"
      ],
      "execution_count": 0,
      "outputs": []
    },
    {
      "metadata": {
        "id": "EWimf5U7Rhai",
        "colab_type": "code",
        "outputId": "de9970dc-68aa-4569-a3ae-4616760aa281",
        "colab": {
          "base_uri": "https://localhost:8080/",
          "height": 153
        }
      },
      "cell_type": "code",
      "source": [
        "a=np.array([[0.0002, 2],[2, 2]])\n",
        "b=np.array([5, 6])\n",
        "print(a,'\\n',b)\n",
        "a, b = pivoteamento(a, b)\n",
        "print('\\n',a,'\\n',b)\n",
        "print(\"solução com arredondamento: \", gauss(a,b).round(decimals=3))"
      ],
      "execution_count": 93,
      "outputs": [
        {
          "output_type": "stream",
          "text": [
            "[[2.e-04 2.e+00]\n",
            " [2.e+00 2.e+00]] \n",
            " [5 6]\n",
            "\n",
            " [[ 2.0000e-04  2.0000e+00]\n",
            " [ 0.0000e+00 -1.9998e+04]] \n",
            " [     5 -49994]\n",
            "solução com arredondamento:  [0.5 2.5]\n"
          ],
          "name": "stdout"
        }
      ]
    }
  ]
}