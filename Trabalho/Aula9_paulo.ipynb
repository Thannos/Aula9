{
  "nbformat": 4,
  "nbformat_minor": 0,
  "metadata": {
    "colab": {
      "name": "Aula9_paulo_durval.ipynb",
      "version": "0.3.2",
      "provenance": []
    },
    "kernelspec": {
      "name": "python3",
      "display_name": "Python 3"
    }
  },
  "cells": [
    {
      "metadata": {
        "id": "9X5IBJj5_rjd",
        "colab_type": "code",
        "colab": {}
      },
      "cell_type": "code",
      "source": [
        "import numpy as np"
      ],
      "execution_count": 0,
      "outputs": []
    },
    {
      "metadata": {
        "id": "zmEwn9VBRbRq",
        "colab_type": "code",
        "colab": {}
      },
      "cell_type": "code",
      "source": [
        "def gauss(a, b):\n",
        "    n = len(a)\n",
        "    x = np.zeros(n)\n",
        "    for k in range(n - 1, -1, -1):\n",
        "        s = 0\n",
        "        for j in range(k + 1, n):\n",
        "            s += a[k][j] * x[j]\n",
        "        x[k] = (b[k] - s) / a[k][k]\n",
        "    return x"
      ],
      "execution_count": 0,
      "outputs": []
    },
    {
      "metadata": {
        "id": "k-7Cpt1ZReNA",
        "colab_type": "code",
        "colab": {}
      },
      "cell_type": "code",
      "source": [
        "def pivotamento(A, b):\n",
        "    if (np.linalg.det(A) != 0):\n",
        "        k=0\n",
        "        n=1\n",
        "        if (A[k][k] == 0):\n",
        "          print('Erro na diagonal principal')\n",
        "          return\n",
        "        if (A[k + 1][k] != 0):\n",
        "            for i in np.arange(k + 1, n + 1):\n",
        "                m = A[i, k] / A[k, k]\n",
        "                A[i, k] = 0\n",
        "                for j in np.arange(k + 1, n + 1):\n",
        "                    A[i, j] -= m * A[k, j]\n",
        "                    b[i] -= m * b[k]\n",
        "\n",
        "        return A, b\n",
        "    else:\n",
        "        print(\"Não é possível calcular matriz com determinante igual a 0\")\n",
        "        return"
      ],
      "execution_count": 0,
      "outputs": []
    },
    {
      "metadata": {
        "id": "3RuMGg0e2wu0",
        "colab_type": "code",
        "colab": {
          "base_uri": "https://localhost:8080/",
          "height": 153
        },
        "outputId": "f8a57455-a889-42c8-d770-78c325b5babb"
      },
      "cell_type": "code",
      "source": [
        "a=np.array([[0.0002, 2],[2, 2]])\n",
        "b=np.array([5, 6])\n",
        "print(a,'\\n',b)\n",
        "a, b = pivotamento(a, b)\n",
        "print('\\n',a,'\\n',b)\n",
        "print(\"solução: \", gauss(a,b).round(decimals=3))"
      ],
      "execution_count": 17,
      "outputs": [
        {
          "output_type": "stream",
          "text": [
            "[[2.e-04 2.e+00]\n",
            " [2.e+00 2.e+00]] \n",
            " [5 6]\n",
            "\n",
            " [[ 2.0000e-04  2.0000e+00]\n",
            " [ 0.0000e+00 -1.9998e+04]] \n",
            " [     5 -49994]\n",
            "solução:  [0.5 2.5]\n"
          ],
          "name": "stdout"
        }
      ]
    },
    {
      "metadata": {
        "id": "EWimf5U7Rhai",
        "colab_type": "code",
        "outputId": "a7a8a8c7-dc71-4894-d3e3-fd0500997f0d",
        "colab": {
          "base_uri": "https://localhost:8080/",
          "height": 282
        }
      },
      "cell_type": "code",
      "source": [
        ""
      ],
      "execution_count": 9,
      "outputs": [
        {
          "output_type": "stream",
          "text": [
            "[[2.e-04 2.e+00]\n",
            " [2.e+00 2.e+00]] \n",
            " [5 6]\n"
          ],
          "name": "stdout"
        },
        {
          "output_type": "error",
          "ename": "NameError",
          "evalue": "ignored",
          "traceback": [
            "\u001b[0;31m---------------------------------------------------------------------------\u001b[0m",
            "\u001b[0;31mNameError\u001b[0m                                 Traceback (most recent call last)",
            "\u001b[0;32m<ipython-input-9-0088c63ad951>\u001b[0m in \u001b[0;36m<module>\u001b[0;34m()\u001b[0m\n\u001b[1;32m      2\u001b[0m \u001b[0mb\u001b[0m\u001b[0;34m=\u001b[0m\u001b[0mnp\u001b[0m\u001b[0;34m.\u001b[0m\u001b[0marray\u001b[0m\u001b[0;34m(\u001b[0m\u001b[0;34m[\u001b[0m\u001b[0;36m5\u001b[0m\u001b[0;34m,\u001b[0m \u001b[0;36m6\u001b[0m\u001b[0;34m]\u001b[0m\u001b[0;34m)\u001b[0m\u001b[0;34m\u001b[0m\u001b[0;34m\u001b[0m\u001b[0m\n\u001b[1;32m      3\u001b[0m \u001b[0mprint\u001b[0m\u001b[0;34m(\u001b[0m\u001b[0ma\u001b[0m\u001b[0;34m,\u001b[0m\u001b[0;34m'\\n'\u001b[0m\u001b[0;34m,\u001b[0m\u001b[0mb\u001b[0m\u001b[0;34m)\u001b[0m\u001b[0;34m\u001b[0m\u001b[0;34m\u001b[0m\u001b[0m\n\u001b[0;32m----> 4\u001b[0;31m \u001b[0ma\u001b[0m\u001b[0;34m,\u001b[0m \u001b[0mb\u001b[0m \u001b[0;34m=\u001b[0m \u001b[0mpivoteamento\u001b[0m\u001b[0;34m(\u001b[0m\u001b[0ma\u001b[0m\u001b[0;34m,\u001b[0m \u001b[0mb\u001b[0m\u001b[0;34m)\u001b[0m\u001b[0;34m\u001b[0m\u001b[0;34m\u001b[0m\u001b[0m\n\u001b[0m\u001b[1;32m      5\u001b[0m \u001b[0mprint\u001b[0m\u001b[0;34m(\u001b[0m\u001b[0;34m'\\n'\u001b[0m\u001b[0;34m,\u001b[0m\u001b[0ma\u001b[0m\u001b[0;34m,\u001b[0m\u001b[0;34m'\\n'\u001b[0m\u001b[0;34m,\u001b[0m\u001b[0mb\u001b[0m\u001b[0;34m)\u001b[0m\u001b[0;34m\u001b[0m\u001b[0;34m\u001b[0m\u001b[0m\n\u001b[1;32m      6\u001b[0m \u001b[0mprint\u001b[0m\u001b[0;34m(\u001b[0m\u001b[0;34m\"solução: \"\u001b[0m\u001b[0;34m,\u001b[0m \u001b[0mgauss\u001b[0m\u001b[0;34m(\u001b[0m\u001b[0ma\u001b[0m\u001b[0;34m,\u001b[0m\u001b[0mb\u001b[0m\u001b[0;34m)\u001b[0m\u001b[0;34m.\u001b[0m\u001b[0mround\u001b[0m\u001b[0;34m(\u001b[0m\u001b[0mdecimals\u001b[0m\u001b[0;34m=\u001b[0m\u001b[0;36m3\u001b[0m\u001b[0;34m)\u001b[0m\u001b[0;34m)\u001b[0m\u001b[0;34m\u001b[0m\u001b[0;34m\u001b[0m\u001b[0m\n",
            "\u001b[0;31mNameError\u001b[0m: name 'pivoteamento' is not defined"
          ]
        }
      ]
    }
  ]
}